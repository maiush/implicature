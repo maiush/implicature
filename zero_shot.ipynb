{
 "cells": [
  {
   "cell_type": "code",
   "execution_count": 1,
   "metadata": {},
   "outputs": [
    {
     "name": "stdout",
     "output_type": "stream",
     "text": [
      "/gws/nopw/j04/ai4er/users/maiush/implicature\n"
     ]
    }
   ],
   "source": [
    "%cd implicature"
   ]
  },
  {
   "cell_type": "code",
   "execution_count": 2,
   "metadata": {},
   "outputs": [],
   "source": [
    "from constants import results_path\n",
    "\n",
    "import pickle, string\n",
    "import numpy as np\n",
    "import pandas as pd\n",
    "import torch as t"
   ]
  },
  {
   "cell_type": "code",
   "execution_count": 3,
   "metadata": {},
   "outputs": [],
   "source": [
    "models = [\"gemma-2-2b\", \"llama-3.1-8b\", \"mistral-nemo-12b\", \"qwen-2-72b\"]\n",
    "\n",
    "data = pd.read_json(f\"test_data.jsonl\", orient=\"records\", lines=True)\n",
    "true = (data[\"implicature\"] == \"no\").to_numpy() * 1"
   ]
  },
  {
   "cell_type": "code",
   "execution_count": 4,
   "metadata": {},
   "outputs": [
    {
     "data": {
      "text/html": [
       "<div>\n",
       "<style scoped>\n",
       "    .dataframe tbody tr th:only-of-type {\n",
       "        vertical-align: middle;\n",
       "    }\n",
       "\n",
       "    .dataframe tbody tr th {\n",
       "        vertical-align: top;\n",
       "    }\n",
       "\n",
       "    .dataframe thead th {\n",
       "        text-align: right;\n",
       "    }\n",
       "</style>\n",
       "<table border=\"1\" class=\"dataframe\">\n",
       "  <thead>\n",
       "    <tr style=\"text-align: right;\">\n",
       "      <th></th>\n",
       "      <th>base</th>\n",
       "      <th>instruct</th>\n",
       "    </tr>\n",
       "  </thead>\n",
       "  <tbody>\n",
       "    <tr>\n",
       "      <th>gemma-2-2b</th>\n",
       "      <td>0.623333</td>\n",
       "      <td>0.691667</td>\n",
       "    </tr>\n",
       "    <tr>\n",
       "      <th>llama-3.1-8b</th>\n",
       "      <td>0.576667</td>\n",
       "      <td>0.805000</td>\n",
       "    </tr>\n",
       "    <tr>\n",
       "      <th>mistral-nemo-12b</th>\n",
       "      <td>0.790000</td>\n",
       "      <td>0.818333</td>\n",
       "    </tr>\n",
       "    <tr>\n",
       "      <th>qwen-2-72b</th>\n",
       "      <td>0.803333</td>\n",
       "      <td>0.858333</td>\n",
       "    </tr>\n",
       "  </tbody>\n",
       "</table>\n",
       "</div>"
      ],
      "text/plain": [
       "                      base  instruct\n",
       "gemma-2-2b        0.623333  0.691667\n",
       "llama-3.1-8b      0.576667  0.805000\n",
       "mistral-nemo-12b  0.790000  0.818333\n",
       "qwen-2-72b        0.803333  0.858333"
      ]
     },
     "execution_count": 4,
     "metadata": {},
     "output_type": "execute_result"
    }
   ],
   "source": [
    "results = pd.DataFrame(columns=[\"base\", \"instruct\"])\n",
    "for model in models:\n",
    "    base = t.load(f\"{results_path}/{model}-base/zero_shot.pt\", weights_only=True)\n",
    "    instruct = t.load(f\"{results_path}/{model}-instruct/zero_shot.pt\", weights_only=True)\n",
    "\n",
    "    base = (base[:, 0, :].argmax(dim=-1).numpy() == true).mean()\n",
    "    instruct = (instruct[:, 0, :].argmax(dim=-1).numpy() == true).mean()\n",
    "\n",
    "    results.loc[model] = [base, instruct]\n",
    "results"
   ]
  },
  {
   "cell_type": "code",
   "execution_count": 5,
   "metadata": {},
   "outputs": [
    {
     "data": {
      "text/html": [
       "<div>\n",
       "<style scoped>\n",
       "    .dataframe tbody tr th:only-of-type {\n",
       "        vertical-align: middle;\n",
       "    }\n",
       "\n",
       "    .dataframe tbody tr th {\n",
       "        vertical-align: top;\n",
       "    }\n",
       "\n",
       "    .dataframe thead th {\n",
       "        text-align: right;\n",
       "    }\n",
       "</style>\n",
       "<table border=\"1\" class=\"dataframe\">\n",
       "  <thead>\n",
       "    <tr style=\"text-align: right;\">\n",
       "      <th></th>\n",
       "      <th>base</th>\n",
       "      <th>instruct</th>\n",
       "    </tr>\n",
       "  </thead>\n",
       "  <tbody>\n",
       "    <tr>\n",
       "      <th>gemma-2-2b</th>\n",
       "      <td>0.587219</td>\n",
       "      <td>0.696028</td>\n",
       "    </tr>\n",
       "    <tr>\n",
       "      <th>llama-3.1-8b</th>\n",
       "      <td>0.587219</td>\n",
       "      <td>0.787565</td>\n",
       "    </tr>\n",
       "    <tr>\n",
       "      <th>mistral-nemo-12b</th>\n",
       "      <td>0.797927</td>\n",
       "      <td>0.803109</td>\n",
       "    </tr>\n",
       "    <tr>\n",
       "      <th>qwen-2-72b</th>\n",
       "      <td>0.803819</td>\n",
       "      <td>0.848958</td>\n",
       "    </tr>\n",
       "  </tbody>\n",
       "</table>\n",
       "</div>"
      ],
      "text/plain": [
       "                      base  instruct\n",
       "gemma-2-2b        0.587219  0.696028\n",
       "llama-3.1-8b      0.587219  0.787565\n",
       "mistral-nemo-12b  0.797927  0.803109\n",
       "qwen-2-72b        0.803819  0.848958"
      ]
     },
     "execution_count": 5,
     "metadata": {},
     "output_type": "execute_result"
    }
   ],
   "source": [
    "def parse_answers(answers):\n",
    "    answers = [s.lower().translate(str.maketrans('', '', string.punctuation)) for s in answers]\n",
    "    out = []\n",
    "    for answer in answers:\n",
    "        if answer.startswith(\"no\"): out.append(1)\n",
    "        elif answer.startswith(\"yes\"): out.append(0)\n",
    "        else: out.append(-1)\n",
    "    return np.array(out)\n",
    "results = pd.DataFrame(columns=[\"base\", \"instruct\"])\n",
    "for model in models:\n",
    "    with open(f\"{results_path}/{model}-base/zero_shot_answers.pkl\", \"rb\") as f:\n",
    "        base_answers = pickle.load(f)\n",
    "        base = parse_answers(base_answers)\n",
    "    with open(f\"{results_path}/{model}-instruct/zero_shot_answers.pkl\", \"rb\") as f:\n",
    "        instruct_answers = pickle.load(f)\n",
    "        instruct = parse_answers(instruct_answers)\n",
    "    mask = np.argwhere(base != -1).flatten()\n",
    "    base = (base[mask] == true[mask]).mean()\n",
    "    instruct = (instruct[mask] == true[mask]).mean()\n",
    "    results.loc[model] = [base, instruct]\n",
    "results"
   ]
  }
 ],
 "metadata": {
  "kernelspec": {
   "display_name": "ppairs",
   "language": "python",
   "name": "python3"
  },
  "language_info": {
   "codemirror_mode": {
    "name": "ipython",
    "version": 3
   },
   "file_extension": ".py",
   "mimetype": "text/x-python",
   "name": "python",
   "nbconvert_exporter": "python",
   "pygments_lexer": "ipython3",
   "version": "3.12.4"
  }
 },
 "nbformat": 4,
 "nbformat_minor": 2
}
